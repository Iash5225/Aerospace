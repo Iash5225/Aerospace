{
 "cells": [
  {
   "cell_type": "code",
   "execution_count": 1,
   "metadata": {},
   "outputs": [],
   "source": [
    "import pandas as pd\n",
    "import numpy as np\n",
    "import matplotlib.pyplot as plt\n",
    "import sys\n",
    "sys.path.append(r'C:\\Users\\iashb\\OneDrive - The University of Western Australia\\UWA\\04. Aerospace\\Documents\\Technical Teams\\Aerostructures\\Software\\Python Scripts\\Aerospace\\project\\script')\n",
    "\n",
    "from howard_fin_flutter import calculate_flutter_velocity as howard_cfv\n",
    "from sahr_fin_flutter import calculate_flutter_velocity as sahr_cfv"
   ]
  },
  {
   "cell_type": "markdown",
   "metadata": {},
   "source": [
    "# Manual"
   ]
  },
  {
   "cell_type": "code",
   "execution_count": 2,
   "metadata": {},
   "outputs": [],
   "source": [
    "# Sahr\n",
    "altitude = 3000  # in feet\n",
    "shear_modulus = 380000  # in psi\n",
    "thickness = 0.125  # in inches\n",
    "root_chord = 9.75  # in inches\n",
    "tip_chord = 3.75  # in inches\n",
    "semispan = 4.75  # in inches\n",
    "sea_level_sound = 1100  # in ft/s\n",
    "sea_level_pressure = 14.7  # in psi\n",
    "atmospheric_scale_height = 26500  # ft"
   ]
  },
  {
   "cell_type": "markdown",
   "metadata": {},
   "source": [
    "# Howard Flutter Velocity"
   ]
  },
  {
   "cell_type": "code",
   "execution_count": 3,
   "metadata": {},
   "outputs": [
    {
     "data": {
      "text/plain": [
       "788.576441499794"
      ]
     },
     "execution_count": 3,
     "metadata": {},
     "output_type": "execute_result"
    }
   ],
   "source": [
    "howard_cfv(altitude, shear_modulus, thickness, root_chord, tip_chord, semispan)"
   ]
  },
  {
   "cell_type": "markdown",
   "metadata": {},
   "source": [
    "# Sahr Flutter Velocity"
   ]
  },
  {
   "cell_type": "code",
   "execution_count": 4,
   "metadata": {},
   "outputs": [
    {
     "data": {
      "text/plain": [
       "777.690422834831"
      ]
     },
     "execution_count": 4,
     "metadata": {},
     "output_type": "execute_result"
    }
   ],
   "source": [
    "sahr_cfv(sea_level_sound, altitude, atmospheric_scale_height, shear_modulus, sea_level_pressure, thickness, root_chord, tip_chord, semispan)"
   ]
  },
  {
   "cell_type": "code",
   "execution_count": null,
   "metadata": {},
   "outputs": [],
   "source": []
  }
 ],
 "metadata": {
  "kernelspec": {
   "display_name": "Python 3",
   "language": "python",
   "name": "python3"
  },
  "language_info": {
   "codemirror_mode": {
    "name": "ipython",
    "version": 3
   },
   "file_extension": ".py",
   "mimetype": "text/x-python",
   "name": "python",
   "nbconvert_exporter": "python",
   "pygments_lexer": "ipython3",
   "version": "3.10.11"
  }
 },
 "nbformat": 4,
 "nbformat_minor": 2
}
